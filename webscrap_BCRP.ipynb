{
 "cells": [
  {
   "cell_type": "code",
   "execution_count": 2,
   "metadata": {},
   "outputs": [],
   "source": [
    "import numpy as np\n",
    "import pandas as pd\n",
    "import matplotlib.pyplot as plt\n",
    "\n",
    "import requests\n",
    "from io import StringIO\n",
    "\n",
    "import warnings\n",
    "warnings.filterwarnings('ignore')\n",
    "\n",
    "\n",
    "import mplcyberpunk\n",
    "plt.style.use('cyberpunk')"
   ]
  },
  {
   "cell_type": "code",
   "execution_count": 17,
   "metadata": {},
   "outputs": [
    {
     "data": {
      "text/html": [
       "<div>\n",
       "<style scoped>\n",
       "    .dataframe tbody tr th:only-of-type {\n",
       "        vertical-align: middle;\n",
       "    }\n",
       "\n",
       "    .dataframe tbody tr th {\n",
       "        vertical-align: top;\n",
       "    }\n",
       "\n",
       "    .dataframe thead th {\n",
       "        text-align: right;\n",
       "    }\n",
       "</style>\n",
       "<table border=\"1\" class=\"dataframe\">\n",
       "  <thead>\n",
       "    <tr style=\"text-align: right;\">\n",
       "      <th></th>\n",
       "      <th>Mes/A&amp;ntilde;o</th>\n",
       "      <th>Tipo de cambio - promedio del periodo (S/ por US$) - Interbancario - Compra</th>\n",
       "    </tr>\n",
       "  </thead>\n",
       "  <tbody>\n",
       "    <tr>\n",
       "      <th>0</th>\n",
       "      <td>Feb.2021</td>\n",
       "      <td>3.644465</td>\n",
       "    </tr>\n",
       "    <tr>\n",
       "      <th>1</th>\n",
       "      <td>Mar.2021</td>\n",
       "      <td>3.707835</td>\n",
       "    </tr>\n",
       "    <tr>\n",
       "      <th>2</th>\n",
       "      <td>Abr.2021</td>\n",
       "      <td>3.697590</td>\n",
       "    </tr>\n",
       "    <tr>\n",
       "      <th>3</th>\n",
       "      <td>May.2021</td>\n",
       "      <td>3.770971</td>\n",
       "    </tr>\n",
       "    <tr>\n",
       "      <th>4</th>\n",
       "      <td>Jun.2021</td>\n",
       "      <td>3.904743</td>\n",
       "    </tr>\n",
       "  </tbody>\n",
       "</table>\n",
       "</div>"
      ],
      "text/plain": [
       "  Mes/A&ntilde;o  \\\n",
       "0       Feb.2021   \n",
       "1       Mar.2021   \n",
       "2       Abr.2021   \n",
       "3       May.2021   \n",
       "4       Jun.2021   \n",
       "\n",
       "   Tipo de cambio - promedio del periodo (S/ por US$) - Interbancario - Compra  \n",
       "0                                           3.644465                            \n",
       "1                                           3.707835                            \n",
       "2                                           3.697590                            \n",
       "3                                           3.770971                            \n",
       "4                                           3.904743                            "
      ]
     },
     "execution_count": 17,
     "metadata": {},
     "output_type": "execute_result"
    }
   ],
   "source": [
    "# https://estadisticas.bcrp.gob.pe/estadisticas/series/api/[códigos de series]/[formato de salida]/[periodo inicial]/[periodo final]/[idioma]\n",
    "url = 'https://estadisticas.bcrp.gob.pe/estadisticas/series/api/PN01205PM/csv/2021-2/2022-2/esp'\n",
    "content = requests.get(url, verify=False).text.replace('<br>', '\\n').strip()\n",
    "csv = StringIO(content)\n",
    "r = pd.read_csv(csv)\n",
    "r.head()\n"
   ]
  },
  {
   "cell_type": "code",
   "execution_count": null,
   "metadata": {},
   "outputs": [],
   "source": []
  }
 ],
 "metadata": {
  "interpreter": {
   "hash": "3ff7df752b423a0d2cefa4016f0346cb886be5db7f4b7defb64a613e1ca9747d"
  },
  "kernelspec": {
   "display_name": "Python 3.8.10 ('web_venv': venv)",
   "language": "python",
   "name": "python3"
  },
  "language_info": {
   "codemirror_mode": {
    "name": "ipython",
    "version": 3
   },
   "file_extension": ".py",
   "mimetype": "text/x-python",
   "name": "python",
   "nbconvert_exporter": "python",
   "pygments_lexer": "ipython3",
   "version": "3.8.10"
  },
  "orig_nbformat": 4
 },
 "nbformat": 4,
 "nbformat_minor": 2
}
